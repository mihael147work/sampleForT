{
 "cells": [
  {
   "cell_type": "code",
   "execution_count": 1,
   "metadata": {
    "ExecuteTime": {
     "end_time": "2020-06-24T18:02:47.349319Z",
     "start_time": "2020-06-24T18:02:46.129771Z"
    }
   },
   "outputs": [],
   "source": [
    "import warnings\n",
    "warnings.filterwarnings(\"ignore\", category=DeprecationWarning)\n",
    "warnings.filterwarnings(\"ignore\", category=UserWarning)\n",
    "warnings.filterwarnings(\"ignore\", category=FutureWarning)\n",
    "\n",
    "\n",
    "import numpy as np # linear algebra\n",
    "import pandas as pd # data processing, CSV file I/O (e.g. pd.read_csv)\n",
    "import matplotlib.pyplot as plt \n",
    "import pandas_profiling as pp\n",
    "%matplotlib inline\n",
    "\n",
    "from numpy import* \n",
    "from pylab import*\n",
    "import pywt\n",
    "from PIL import Image\n",
    "import os\n",
    "import seaborn as sns \n",
    "sns.set()"
   ]
  },
  {
   "cell_type": "code",
   "execution_count": 2,
   "metadata": {
    "ExecuteTime": {
     "end_time": "2020-06-24T18:02:47.989127Z",
     "start_time": "2020-06-24T18:02:47.369730Z"
    }
   },
   "outputs": [],
   "source": [
    "from __future__ import print_function, division\n",
    "import os\n",
    "import torch\n",
    "from skimage import io, transform\n",
    "import matplotlib.pyplot as plt\n",
    "from torch.utils.data import Dataset, DataLoader\n",
    "from torchvision import transforms, utils\n",
    "import torchvision\n",
    "from torch import nn\n",
    "from torch.autograd import Variable\n",
    "from torch.utils.data import DataLoader\n",
    "from torchvision import transforms\n",
    "from torchvision.utils import save_image\n",
    "import torch.nn.functional as F\n",
    "\n",
    "# Ignore warnings\n",
    "import warnings\n",
    "warnings.filterwarnings(\"ignore\")\n",
    "\n",
    "device = torch.device(\"cuda:0\")\n",
    "\n",
    "import torch\n",
    "import torch.nn as nn\n",
    "import torch.nn.functional as F\n",
    "from torch.autograd import Variable\n",
    "\n",
    "import torchvision\n",
    "from torchvision import datasets\n",
    "from torchvision import transforms\n",
    "from torchvision.utils import save_image\n",
    "\n",
    "\n",
    "\n",
    "\n",
    "from IPython.display import Image\n",
    "from IPython.core.display import Image, display"
   ]
  },
  {
   "cell_type": "code",
   "execution_count": 17,
   "metadata": {
    "ExecuteTime": {
     "end_time": "2020-06-24T14:05:50.799552Z",
     "start_time": "2020-06-24T14:05:50.208193Z"
    }
   },
   "outputs": [],
   "source": [
    "data_X = np.load('../EEG2/data/img_X1.npy')\n",
    "data_y = np.load('../EEG2/data/img_X1.npy')"
   ]
  },
  {
   "cell_type": "code",
   "execution_count": 9,
   "metadata": {
    "ExecuteTime": {
     "end_time": "2020-06-24T13:59:46.272675Z",
     "start_time": "2020-06-24T13:59:46.265481Z"
    }
   },
   "outputs": [],
   "source": [
    "class EEGDataset(Dataset):\n",
    "    \"\"\"Dataset of chanels of EEG.\"\"\"\n",
    "\n",
    "    def __init__(self, np_file_x, np_file_y, transform=None):\n",
    "        X = np.load(np_file_x)\n",
    " \n",
    "        self.X_array = torch.cuda.FloatTensor(X)\n",
    "        Y = np.load(np_file_y)\n",
    "        self.y_array = torch.cuda.FloatTensor(Y)\n",
    "        self.transform = transform\n",
    "\n",
    "    def __len__(self):\n",
    "        return len(self.X_array)\n",
    "\n",
    "    def __getitem__(self, idx):\n",
    "        if torch.is_tensor(idx):\n",
    "            idx = idx.tolist()\n",
    "\n",
    "            img, target = self.X_array[idx].reshape(4, 82, 334), self.y_array[idx]\n",
    "\n",
    "        if self.transform is not None:\n",
    "            img = self.transform(img)\n",
    "        \n",
    "            return img, target"
   ]
  },
  {
   "cell_type": "code",
   "execution_count": 12,
   "metadata": {
    "ExecuteTime": {
     "end_time": "2020-06-24T14:00:26.777839Z",
     "start_time": "2020-06-24T14:00:26.770026Z"
    }
   },
   "outputs": [],
   "source": [
    "class EEGDataset(Dataset):\n",
    "    \"\"\"Dataset of chanels of EEG.\"\"\"\n",
    "\n",
    "    def __init__(self, np_file_x, np_file_y, transform=None):\n",
    "        \"\"\"\n",
    "        Args:\n",
    "            csv_file (string): Path to the csv file with annotations.\n",
    "            root_dir (string): Directory with all the images.\n",
    "            transform (callable, optional): Optional transform to be applied\n",
    "                on a sample.\n",
    "        \"\"\"\n",
    "        kgb = np.load(np_file_x)\n",
    "   #     kgb = likeScaler(deltatime(kgb))\n",
    "        self.X_array = torch.cuda.FloatTensor(kgb)\n",
    "  #      self.X_array = torch.FloatTensor(kgb)\n",
    "        jjj = np.load(np_file_y)\n",
    "        self.y_array = torch.cuda.FloatTensor(jjj)\n",
    "        self.transform = transform\n",
    "\n",
    "    def __len__(self):\n",
    "        return len(self.X_array)\n",
    "\n",
    "    def __getitem__(self, idx):\n",
    "        if torch.is_tensor(idx):\n",
    "            idx = idx.tolist()\n",
    "\n",
    "        #ch_type = self.y_array[idx,1]\n",
    "        #y_type = self.y_array[idx,0]\n",
    "        #image = self.X_array[idx].reshape(10,3846,1)\n",
    "        \n",
    "        \n",
    "        #sample = {'image': image, 'chanel': ch_type, 'chyza': y_type}\n",
    "        #sample = {image, y_type}\n",
    "\n",
    "        img, target = self.X_array[idx].reshape(4, 82, 334), self.y_array[idx]\n",
    "      #  target = target.type(torch.LongTensor)\n",
    "\n",
    "        # doing this so that it is consistent with all other datasets\n",
    "        # to return a PIL Image\n",
    "        #img = Image.fromarray(img.numpy(), mode='L')\n",
    "\n",
    "        if self.transform is not None:\n",
    "            img = self.transform(img)\n",
    "\n",
    "       \n",
    "        return img, target\n",
    "\n",
    "\n"
   ]
  },
  {
   "cell_type": "code",
   "execution_count": 13,
   "metadata": {
    "ExecuteTime": {
     "end_time": "2020-06-24T14:00:29.105541Z",
     "start_time": "2020-06-24T14:00:29.088898Z"
    }
   },
   "outputs": [],
   "source": [
    "one = 128\n",
    "two = 50\n",
    "tree = 10\n",
    "\n",
    "\n",
    "\n",
    "class autoencoder(nn.Module):\n",
    "    def __init__(self):\n",
    "        super(autoencoder, self).__init__()\n",
    "        self.encoder1 = nn.Sequential(\n",
    "            nn.Conv2d(4, one, 3, stride=1, padding=2),  \n",
    "            nn.ReLU(True)\n",
    "          #  nn.MaxPool2d(2, padding=0, return_indices=True)\n",
    "        )\n",
    "        \n",
    "        self.encoder2 = nn.Sequential(\n",
    "            nn.Conv2d(one, two, 3, stride=1, padding=2),  \n",
    "            nn.ReLU(True)\n",
    "           # nn.MaxPool2d(2, padding=0, return_indices=True)\n",
    "        )\n",
    "        \n",
    "        self.encoder3 = nn.Sequential(\n",
    "            nn.Conv2d(two, tree, 2, stride=1, padding=2),  \n",
    "            nn.ReLU(True)\n",
    "          #  nn.MaxPool2d(2, padding=0, return_indices=True)\n",
    "        )\n",
    "            \n",
    "        self.pool = nn.MaxPool2d(2, padding=0, return_indices=True)\n",
    "        self.unpool = nn.MaxUnpool2d(2, padding=0)\n",
    "                \n",
    "        \n",
    "        self.decoder1 = nn.Sequential(\n",
    "            nn.ConvTranspose2d(tree, two, 2, stride=1, padding=2),  \n",
    "            nn.ReLU(True)\n",
    "        )\n",
    "        self.decoder2 = nn.Sequential(\n",
    "            nn.ConvTranspose2d(two, one, 3, stride=1, padding=2),  \n",
    "            nn.ReLU(True)\n",
    "        )\n",
    "        self.decoder3 = nn.Sequential(\n",
    "            nn.ConvTranspose2d(one, 4, 3, stride=1, padding=2),  \n",
    "            nn.ReLU(True)\n",
    "        )\n",
    "                \n",
    "        #self.fc1 = nn.Linear(43, 2000) \n",
    "        #self.fc2 = nn.Linear(2000, 43)\n",
    "\n",
    "    def forward(self, x):\n",
    "        out = self.encoder1(x)\n",
    "        \n",
    "        size1 = out.size()\n",
    "        out, indices1 = self.pool(out)\n",
    "        \n",
    "        out = self.encoder2(out)\n",
    "        \n",
    "        size2 = out.size()\n",
    "        out, indices2 = self.pool(out)        \n",
    "        \n",
    "        out = self.encoder3(out)\n",
    "        \n",
    "        size3 = out.size()\n",
    "        out, indices3 = self.pool(out)\n",
    "                \n",
    "        out = self.unpool(out, indices3, output_size=size3)       \n",
    "        out = self.decoder1(out)        \n",
    "        out = self.unpool(out, indices2, output_size=size2)        \n",
    "        out = self.decoder2(out)        \n",
    "        out = self.unpool(out, indices1, output_size=size1)        \n",
    "        out = self.decoder3(out)\n",
    "   \n",
    "        return out"
   ]
  },
  {
   "cell_type": "code",
   "execution_count": 14,
   "metadata": {
    "ExecuteTime": {
     "end_time": "2020-06-24T14:00:30.587625Z",
     "start_time": "2020-06-24T14:00:30.080773Z"
    }
   },
   "outputs": [],
   "source": [
    "batch_size=16\n",
    "num_epochs = 80\n",
    "learning_rate=0.00001\n",
    "\n",
    "dataset = EEGDataset('../EEG2/data/img_X1.npy', '../EEG2/data/img_y1.npy')\n",
    "\n",
    "dataloader = DataLoader(dataset=dataset, batch_size=batch_size, shuffle=False)"
   ]
  },
  {
   "cell_type": "code",
   "execution_count": 15,
   "metadata": {
    "ExecuteTime": {
     "end_time": "2020-06-24T14:00:30.691173Z",
     "start_time": "2020-06-24T14:00:30.681330Z"
    }
   },
   "outputs": [],
   "source": [
    "learning_rate = 0.00001\n",
    "model = autoencoder().to(device)\n",
    "distance = nn.MSELoss()\n",
    "optimizer = torch.optim.Adam(model.parameters(),weight_decay=1e-4)\n",
    "#optimizer = torch.optim.SGD(model.parameters(), lr=learning_rate, momentum=0.9)\n",
    "#optimizer = torch.optim.Adam(model.parameters(), lr=learning_rate)"
   ]
  },
  {
   "cell_type": "code",
   "execution_count": 16,
   "metadata": {
    "ExecuteTime": {
     "end_time": "2020-06-24T14:04:14.699351Z",
     "start_time": "2020-06-24T14:00:31.529555Z"
    }
   },
   "outputs": [
    {
     "name": "stdout",
     "output_type": "stream",
     "text": [
      "Epoch [1/80]\n",
      "Loss: 3597.1140\n",
      "Epoch [2/80]\n",
      "Loss: 2164.7019\n",
      "Epoch [3/80]\n",
      "Loss: 1676.4893\n",
      "Epoch [4/80]\n",
      "Loss: 1370.0336\n",
      "Epoch [5/80]\n",
      "Loss: 1158.8558\n",
      "Epoch [6/80]\n",
      "Loss: 1024.4309\n",
      "Epoch [7/80]\n",
      "Loss: 927.0453\n",
      "Epoch [8/80]\n",
      "Loss: 841.3873\n",
      "Epoch [9/80]\n",
      "Loss: 786.5367\n",
      "Epoch [10/80]\n",
      "Loss: 721.3030\n",
      "Epoch [11/80]\n",
      "Loss: 677.8595\n",
      "Epoch [12/80]\n",
      "Loss: 652.5563\n",
      "Epoch [13/80]\n",
      "Loss: 613.3818\n",
      "Epoch [14/80]\n",
      "Loss: 589.0402\n",
      "Epoch [15/80]\n",
      "Loss: 555.8200\n",
      "Epoch [16/80]\n",
      "Loss: 535.3752\n",
      "Epoch [17/80]\n",
      "Loss: 511.3670\n",
      "Epoch [18/80]\n",
      "Loss: 488.8458\n",
      "Epoch [19/80]\n",
      "Loss: 469.6020\n",
      "Epoch [20/80]\n",
      "Loss: 453.5065\n",
      "Epoch [21/80]\n",
      "Loss: 437.2955\n",
      "Epoch [22/80]\n",
      "Loss: 422.3208\n",
      "Epoch [23/80]\n",
      "Loss: 411.1807\n",
      "Epoch [24/80]\n",
      "Loss: 398.6153\n",
      "Epoch [25/80]\n",
      "Loss: 389.4994\n",
      "Epoch [26/80]\n",
      "Loss: 380.5800\n",
      "Epoch [27/80]\n",
      "Loss: 372.3508\n",
      "Epoch [28/80]\n",
      "Loss: 363.1439\n",
      "Epoch [29/80]\n",
      "Loss: 356.2398\n",
      "Epoch [30/80]\n",
      "Loss: 349.7811\n",
      "Epoch [31/80]\n",
      "Loss: 345.7059\n",
      "Epoch [32/80]\n",
      "Loss: 340.0437\n",
      "Epoch [33/80]\n",
      "Loss: 336.7437\n",
      "Epoch [34/80]\n",
      "Loss: 333.4717\n",
      "Epoch [35/80]\n",
      "Loss: 330.5623\n",
      "Epoch [36/80]\n",
      "Loss: 327.0981\n",
      "Epoch [37/80]\n",
      "Loss: 323.3858\n",
      "Epoch [38/80]\n",
      "Loss: 320.7507\n",
      "Epoch [39/80]\n",
      "Loss: 319.4442\n",
      "Epoch [40/80]\n",
      "Loss: 320.4030\n",
      "Epoch [41/80]\n",
      "Loss: 321.9941\n",
      "Epoch [42/80]\n",
      "Loss: 316.7485\n",
      "Epoch [43/80]\n",
      "Loss: 314.2328\n",
      "Epoch [44/80]\n",
      "Loss: 313.0998\n",
      "Epoch [45/80]\n",
      "Loss: 310.8168\n",
      "Epoch [46/80]\n",
      "Loss: 307.2420\n",
      "Epoch [47/80]\n",
      "Loss: 304.8381\n",
      "Epoch [48/80]\n",
      "Loss: 303.4762\n",
      "Epoch [49/80]\n",
      "Loss: 301.9810\n",
      "Epoch [50/80]\n",
      "Loss: 300.0222\n",
      "Epoch [51/80]\n",
      "Loss: 297.8405\n",
      "Epoch [52/80]\n",
      "Loss: 296.4149\n",
      "Epoch [53/80]\n",
      "Loss: 294.6768\n",
      "Epoch [54/80]\n",
      "Loss: 292.3091\n",
      "Epoch [55/80]\n",
      "Loss: 291.3571\n",
      "Epoch [56/80]\n",
      "Loss: 291.5204\n",
      "Epoch [57/80]\n",
      "Loss: 289.8021\n",
      "Epoch [58/80]\n",
      "Loss: 288.9734\n",
      "Epoch [59/80]\n",
      "Loss: 288.0518\n",
      "Epoch [60/80]\n",
      "Loss: 286.3336\n",
      "Epoch [61/80]\n",
      "Loss: 285.0728\n",
      "Epoch [62/80]\n",
      "Loss: 283.4034\n",
      "Epoch [63/80]\n",
      "Loss: 281.3905\n",
      "Epoch [64/80]\n",
      "Loss: 280.3667\n",
      "Epoch [65/80]\n",
      "Loss: 279.6927\n",
      "Epoch [66/80]\n",
      "Loss: 278.3331\n",
      "Epoch [67/80]\n",
      "Loss: 277.0825\n",
      "Epoch [68/80]\n",
      "Loss: 276.0618\n",
      "Epoch [69/80]\n",
      "Loss: 275.4484\n",
      "Epoch [70/80]\n",
      "Loss: 274.6606\n",
      "Epoch [71/80]\n",
      "Loss: 274.4693\n",
      "Epoch [72/80]\n",
      "Loss: 272.8757\n",
      "Epoch [73/80]\n",
      "Loss: 272.5873\n",
      "Epoch [74/80]\n",
      "Loss: 271.9155\n",
      "Epoch [75/80]\n",
      "Loss: 270.8803\n",
      "Epoch [76/80]\n",
      "Loss: 270.6789\n",
      "Epoch [77/80]\n",
      "Loss: 269.5303\n",
      "Epoch [78/80]\n",
      "Loss: 269.7326\n",
      "Epoch [79/80]\n",
      "Loss: 270.0064\n",
      "Epoch [80/80]\n",
      "Loss: 268.8173\n"
     ]
    }
   ],
   "source": [
    "for epoch in range(num_epochs):\n",
    "    i=0\n",
    "    for data in dataloader:\n",
    "        i+=1\n",
    "        img, _ = data\n",
    "        img = Variable(img).to(device)\n",
    "        # ===================forward=====================\n",
    "        output = model(img)\n",
    "        loss = distance(output, img)\n",
    "        # ===================backward====================\n",
    "        optimizer.zero_grad()\n",
    "        loss.backward()\n",
    "        optimizer.step()\n",
    "             # ===================log========================\n",
    "        if (i + 1) % 50 == 0:\n",
    "            print('Epoch [{}/{}]'.format(epoch + 1, num_epochs))\n",
    "            print('Loss: {:.4f}'.format(loss.item()))\n",
    "      "
   ]
  },
  {
   "cell_type": "code",
   "execution_count": 29,
   "metadata": {
    "ExecuteTime": {
     "end_time": "2020-06-24T14:09:07.839760Z",
     "start_time": "2020-06-24T14:09:07.809426Z"
    }
   },
   "outputs": [
    {
     "data": {
      "image/png": "[encoded data removed]",
      "text/plain": [
       "<PIL.Image.Image image mode=RGBA size=334x82 at 0x7F3798B3C910>"
      ]
     },
     "execution_count": 29,
     "metadata": {},
     "output_type": "execute_result"
    }
   ],
   "source": [
    "k=7\n",
    "b = data_X[k].astype(uint8)\n",
    "pix = model(Variable(torch.cuda.FloatTensor(data_X[k]).reshape(1, 4, 82, 334)))\n",
    "pix1= pix.cpu().detach().numpy().reshape(82,334, 4)\n",
    "picture = pix1.astype(uint8)\n",
    "img_one = Image.fromarray(b)\n",
    "img_two = Image.fromarray(picture)\n",
    "img_one"
   ]
  },
  {
   "cell_type": "code",
   "execution_count": 30,
   "metadata": {
    "ExecuteTime": {
     "end_time": "2020-06-24T14:10:06.809343Z",
     "start_time": "2020-06-24T14:10:06.793741Z"
    }
   },
   "outputs": [
    {
     "data": {
      "image/png": "[encoded data removed]",
      "text/plain": [
       "<PIL.Image.Image image mode=RGBA size=334x82 at 0x7F3798B3C710>"
      ]
     },
     "execution_count": 30,
     "metadata": {},
     "output_type": "execute_result"
    }
   ],
   "source": [
    "img_two"
   ]
  },
  {
   "cell_type": "code",
   "execution_count": 31,
   "metadata": {
    "ExecuteTime": {
     "end_time": "2020-06-24T14:10:20.020623Z",
     "start_time": "2020-06-24T14:10:20.002088Z"
    }
   },
   "outputs": [
    {
     "data": {
      "text/plain": [
       "(torch.Size([1, 4, 82, 334]),\n",
       " torch.Size([1, 128, 84, 336]),\n",
       " torch.Size([1, 128, 42, 168]),\n",
       " torch.Size([1, 50, 44, 170]),\n",
       " torch.Size([1, 50, 22, 85]),\n",
       " torch.Size([1, 10, 25, 88]),\n",
       " torch.Size([1, 10, 12, 44]))"
      ]
     },
     "execution_count": 31,
     "metadata": {},
     "output_type": "execute_result"
    }
   ],
   "source": [
    "x = Variable(torch.cuda.FloatTensor(data_X[k]).reshape(1, 4, 82, 334))\n",
    "out1 = model.encoder1(x)\n",
    "out2, indices1 = model.pool(out1)\n",
    "out3 = model.encoder2(out2)\n",
    "out4, indices2 = model.pool(out3)\n",
    "out5 = model.encoder3(out4)\n",
    "out6, indices3 = model.pool(out5)\n",
    "size0 = x.size()\n",
    "size1 = out1.size()\n",
    "size2 = out2.size()\n",
    "size3 = out3.size()\n",
    "size4 = out4.size()\n",
    "size5 = out5.size()\n",
    "size6 = out6.size()\n",
    "\n",
    "size0, size1, size2, size3, size4, size5, size6"
   ]
  },
  {
   "cell_type": "code",
   "execution_count": 36,
   "metadata": {
    "ExecuteTime": {
     "end_time": "2020-06-24T14:17:18.799529Z",
     "start_time": "2020-06-24T14:17:18.795690Z"
    }
   },
   "outputs": [],
   "source": [
    "smallData_X=np.zeros((84,16,5280))"
   ]
  },
  {
   "cell_type": "code",
   "execution_count": 37,
   "metadata": {
    "ExecuteTime": {
     "end_time": "2020-06-24T14:17:22.092139Z",
     "start_time": "2020-06-24T14:17:20.795416Z"
    }
   },
   "outputs": [
    {
     "name": "stdout",
     "output_type": "stream",
     "text": [
      "CPU times: user 9.73 s, sys: 599 ms, total: 10.3 s\n",
      "Wall time: 1.29 s\n"
     ]
    }
   ],
   "source": [
    "%%time\n",
    "p=0\n",
    "k=0\n",
    "for i in range(len(data_X)):\n",
    "    x = Variable(torch.cuda.FloatTensor(data_X[i]).reshape(1, 4, 82, 334))\n",
    "    out1 = model.encoder1(x)\n",
    "    out2, indices1 = model.pool(out1)\n",
    "    out3 = model.encoder2(out2)\n",
    "    out4, indices2 = model.pool(out3)\n",
    "    out5 = model.encoder3(out4)\n",
    "    out6, indices3 = model.pool(out5)\n",
    "    p = i//16\n",
    "    k = i%16\n",
    "    new_X = out6.cpu()\n",
    "    new_X = new_X.detach().numpy().reshape(5280)\n",
    "    smallData_X[p][k]=new_X\n",
    "    "
   ]
  },
  {
   "cell_type": "code",
   "execution_count": null,
   "metadata": {},
   "outputs": [],
   "source": []
  },
  {
   "cell_type": "markdown",
   "metadata": {},
   "source": [
    "#### ................................ another code"
   ]
  },
  {
   "cell_type": "markdown",
   "metadata": {},
   "source": [
    "### ******************************"
   ]
  },
  {
   "cell_type": "markdown",
   "metadata": {},
   "source": [
    "#### ................................ another more"
   ]
  },
  {
   "cell_type": "code",
   "execution_count": 3,
   "metadata": {
    "ExecuteTime": {
     "end_time": "2020-06-24T18:02:59.828641Z",
     "start_time": "2020-06-24T18:02:59.807048Z"
    }
   },
   "outputs": [],
   "source": [
    "newData_X = np.load('../EEG2/data/newData_X.npy')\n",
    "newData_y = np.load('../EEG2/data/newData_y.npy')\n",
    "df = pd.DataFrame(newData_X.reshape(84,16*5280))\n",
    "df_y = pd.DataFrame(newData_y)\n",
    "X = newData_X.reshape(84,16*5280)"
   ]
  },
  {
   "cell_type": "code",
   "execution_count": 4,
   "metadata": {
    "ExecuteTime": {
     "end_time": "2020-06-24T18:01:12.877179Z",
     "start_time": "2020-06-24T18:01:12.829667Z"
    }
   },
   "outputs": [],
   "source": [
    "from sklearn.manifold import TSNE"
   ]
  },
  {
   "cell_type": "code",
   "execution_count": 4,
   "metadata": {
    "ExecuteTime": {
     "end_time": "2020-06-24T14:31:47.424047Z",
     "start_time": "2020-06-24T14:31:47.421186Z"
    }
   },
   "outputs": [],
   "source": [
    "tnse = TSNE(learning_rate=17, n_jobs=-1)"
   ]
  },
  {
   "cell_type": "code",
   "execution_count": 14,
   "metadata": {
    "ExecuteTime": {
     "end_time": "2020-06-24T14:34:24.183252Z",
     "start_time": "2020-06-24T14:34:23.178942Z"
    }
   },
   "outputs": [
    {
     "name": "stdout",
     "output_type": "stream",
     "text": [
      "CPU times: user 11.2 s, sys: 2.9 s, total: 14.1 s\n",
      "Wall time: 1e+03 ms\n"
     ]
    }
   ],
   "source": [
    "%%time\n",
    "transformed = tnse.fit_transform(df)\n",
    "x_axis = transformed[:, 0]\n",
    "y_axis = transformed[:, 1]\n"
   ]
  },
  {
   "cell_type": "code",
   "execution_count": 15,
   "metadata": {
    "ExecuteTime": {
     "end_time": "2020-06-24T14:34:37.452627Z",
     "start_time": "2020-06-24T14:34:37.301328Z"
    }
   },
   "outputs": [
    {
     "data": {
      "image/png": "[encoded data removed]",
      "text/plain": [
       "<Figure size 432x288 with 1 Axes>"
      ]
     },
     "metadata": {},
     "output_type": "display_data"
    },
    {
     "data": {
      "text/plain": [
       "<Figure size 1440x216 with 0 Axes>"
      ]
     },
     "metadata": {},
     "output_type": "display_data"
    }
   ],
   "source": [
    "sns.set_style(\"white\")\n",
    "plt.scatter(x_axis, y_axis, c=newData_y)\n",
    "plt.figure(figsize=(20,3))\n",
    "plt.show()"
   ]
  },
  {
   "cell_type": "code",
   "execution_count": null,
   "metadata": {},
   "outputs": [],
   "source": []
  },
  {
   "cell_type": "code",
   "execution_count": 4,
   "metadata": {
    "ExecuteTime": {
     "end_time": "2020-06-24T18:03:06.607879Z",
     "start_time": "2020-06-24T18:03:06.498558Z"
    }
   },
   "outputs": [],
   "source": [
    "from matplotlib.colors import ListedColormap\n",
    "from sklearn.model_selection import train_test_split\n",
    "#from sklearn.preprocessing import StandardScaler\n",
    "from sklearn.datasets import make_moons, make_circles, make_classification\n",
    "from sklearn.neural_network import MLPClassifier\n",
    "from sklearn.neighbors import KNeighborsClassifier\n",
    "from sklearn.svm import SVC\n",
    "from sklearn.gaussian_process import GaussianProcessClassifier\n",
    "from sklearn.gaussian_process.kernels import RBF\n",
    "from sklearn.tree import DecisionTreeClassifier\n",
    "from sklearn.ensemble import RandomForestClassifier, AdaBoostClassifier\n",
    "from sklearn.naive_bayes import GaussianNB\n",
    "from sklearn.discriminant_analysis import QuadraticDiscriminantAnalysis\n",
    "from catboost import CatBoostRegressor, Pool, cv, CatBoostClassifier\n",
    "from sklearn.linear_model import ElasticNet, Lasso, LassoCV, LinearRegression, LogisticRegression,  Ridge, RidgeCV, BayesianRidge, LassoLarsIC\n",
    "from sklearn.ensemble import RandomForestRegressor,  GradientBoostingRegressor\n",
    "from sklearn.kernel_ridge import KernelRidge\n",
    "from sklearn.pipeline import make_pipeline\n",
    "from sklearn.preprocessing import RobustScaler\n",
    "from sklearn.neighbors import KNeighborsRegressor\n",
    "from sklearn.base import BaseEstimator, TransformerMixin, RegressorMixin, clone\n",
    "from sklearn.model_selection import KFold, cross_val_score, train_test_split\n",
    "from sklearn.metrics import mean_squared_error\n",
    "import xgboost as xgb\n",
    "import lightgbm as lgb\n",
    "from sklearn.model_selection import cross_val_score, StratifiedKFold\n",
    "from sklearn.model_selection import GridSearchCV\n",
    "from sklearn.model_selection import train_test_split\n",
    "from sklearn.svm import LinearSVC\n",
    "from sklearn.metrics import accuracy_score "
   ]
  },
  {
   "cell_type": "code",
   "execution_count": 5,
   "metadata": {
    "ExecuteTime": {
     "end_time": "2020-06-24T18:03:09.251480Z",
     "start_time": "2020-06-24T18:03:09.242657Z"
    }
   },
   "outputs": [],
   "source": [
    "C=0.5\n",
    "classifiers = [\n",
    "    KNeighborsClassifier(2),  #1\n",
    "    KNeighborsClassifier(3),\n",
    "    KNeighborsClassifier(4),\n",
    "    KNeighborsClassifier(10),\n",
    "    SVC(kernel=\"linear\", C=0.025, probability=False),\n",
    "    SVC(kernel=\"linear\", C=0.01, probability=False),\n",
    "    SVC(kernel=\"linear\", C=0.025, probability=True),#2\n",
    "    SVC(gamma=2, C=1),\n",
    "    SVC(kernel='linear', C=C),\n",
    "    LinearSVC(C=C, max_iter=10000),\n",
    "    SVC(kernel='rbf', gamma=0.7, C=C),\n",
    "    SVC(kernel='poly', degree=3, gamma='auto', C=C),#3\n",
    "    GaussianProcessClassifier(1.0 * RBF(1.0)), #4\n",
    "    DecisionTreeClassifier(max_depth=5), #5\n",
    "    #RandomForestClassifier(n_estimators=150, bootstrap=False, n_jobs=-1), #6\n",
    "    #RandomForestClassifier(n_estimators=150, n_jobs=-1),\n",
    "    RandomForestClassifier(n_estimators=250, n_jobs=-1),\n",
    "    #RandomForestClassifier(n_estimators=350, n_jobs=-1),\n",
    "    MLPClassifier(alpha=1, max_iter=250),  #7\n",
    "    AdaBoostClassifier(),  #8\n",
    "    CatBoostClassifier(random_seed=17, iterations=300, logging_level='Silent'),  #9\n",
    "    GaussianNB(),  #10\n",
    "    QuadraticDiscriminantAnalysis(),\n",
    "    LogisticRegression()] "
   ]
  },
  {
   "cell_type": "code",
   "execution_count": null,
   "metadata": {},
   "outputs": [],
   "source": []
  },
  {
   "cell_type": "code",
   "execution_count": 22,
   "metadata": {
    "ExecuteTime": {
     "end_time": "2020-06-24T14:42:33.236032Z",
     "start_time": "2020-06-24T14:41:00.265148Z"
    }
   },
   "outputs": [
    {
     "name": "stdout",
     "output_type": "stream",
     "text": [
      "Model 1 KNeighborsClassifier(algorithm='auto', l ... has accuracy: 0.6667 on 84 folds\n",
      "Model 2 SVC(C=0.025, break_ties=False, cache_siz ... has accuracy: 0.7024 on 84 folds\n",
      "Model 3 SVC(C=0.01, break_ties=False, cache_size ... has accuracy: 0.6905 on 84 folds\n",
      "Model 4 SVC(C=0.025, break_ties=False, cache_siz ... has accuracy: 0.7024 on 84 folds\n",
      "Model 5 SVC(C=1, break_ties=False, cache_size=20 ... has accuracy: 0.6905 on 84 folds\n",
      "Model 6 SVC(C=1, break_ties=False, cache_size=20 ... has accuracy: 0.6905 on 84 folds\n",
      "Model 7 LinearSVC(C=1, class_weight=None, dual=T ... has accuracy: 0.6905 on 84 folds\n",
      "Model 8 SVC(C=1, break_ties=False, cache_size=20 ... has accuracy: 0.6071 on 84 folds\n",
      "Model 9 SVC(C=1, break_ties=False, cache_size=20 ... has accuracy: 0.6190 on 84 folds\n",
      "Model 10 GaussianProcessClassifier(copy_X_train=T ... has accuracy: 0.5833 on 84 folds\n",
      "Model 11 DecisionTreeClassifier(ccp_alpha=0.0, cl ... has accuracy: 0.5595 on 84 folds\n",
      "Model 12 RandomForestClassifier(bootstrap=True, c ... has accuracy: 0.6071 on 84 folds\n",
      "Model 13 MLPClassifier(activation='relu', alpha=1 ... has accuracy: 0.6071 on 84 folds\n",
      "Model 14 AdaBoostClassifier(algorithm='SAMME.R',  ... has accuracy: 0.5714 on 84 folds\n",
      "Model 15 <catboost.core.CatBoostClassifier object ... has accuracy: 0.6071 on 84 folds\n",
      "Model 16 GaussianNB(priors=None, var_smoothing=1e ... has accuracy: 0.6905 on 84 folds\n",
      "Model 17 QuadraticDiscriminantAnalysis(priors=Non ... has accuracy: 0.6905 on 84 folds\n",
      "Model 18 LogisticRegression(C=1.0, class_weight=N ... has accuracy: 0.6905 on 84 folds\n"
     ]
    }
   ],
   "source": [
    "flods = 84\n",
    "i=0\n",
    "kfold = KFold(flods, True, 1)\n",
    "for modelka in classifiers:\n",
    "    i=i+1\n",
    "    mod = modelka\n",
    "    name=str(mod)\n",
    "    k=0\n",
    "    ac=0\n",
    "    for train, test in kfold.split(transformed):\n",
    "        k+=1\n",
    "        mod.fit(transformed[train], newData_y[train])\n",
    "        y_predict = mod.predict(transformed[test])\n",
    "        ac+= accuracy_score(newData_y[test],y_predict)\n",
    "    print('Model', i, name[0:40], '... has accuracy: {:.4f}'.format(ac/k), 'on',k,'folds')"
   ]
  },
  {
   "cell_type": "code",
   "execution_count": null,
   "metadata": {},
   "outputs": [],
   "source": []
  },
  {
   "cell_type": "code",
   "execution_count": 6,
   "metadata": {
    "ExecuteTime": {
     "end_time": "2020-06-24T18:03:11.977355Z",
     "start_time": "2020-06-24T18:03:11.968460Z"
    }
   },
   "outputs": [],
   "source": [
    "C=1\n",
    "classifiers2 = [\n",
    "    KNeighborsClassifier(2),  #1\n",
    "    KNeighborsClassifier(3),\n",
    "    KNeighborsClassifier(4),\n",
    "    KNeighborsClassifier(10),\n",
    "    SVC(kernel=\"linear\", C=0.025, probability=True),#2\n",
    "    SVC(gamma=2, C=0.1),\n",
    "    SVC(kernel='linear', C=C),\n",
    "#    LinearSVC(C=C, max_iter=10000),\n",
    "    SVC(kernel='rbf', gamma=0.7, C=C),\n",
    "    SVC(kernel='poly', degree=3, gamma='auto', C=C),#3\n",
    "    GaussianProcessClassifier(1.0 * RBF(1.0)), #4\n",
    "    DecisionTreeClassifier(max_depth=5), #5\n",
    "    RandomForestClassifier(n_estimators=150, bootstrap=False, n_jobs=-1), #6\n",
    "    RandomForestClassifier(n_estimators=150, n_jobs=-1),\n",
    "    RandomForestClassifier(n_estimators=250, max_features ='sqrt', n_jobs=-1),\n",
    "    RandomForestClassifier(n_estimators=350, max_features ='sqrt',n_jobs=-1),\n",
    "    RandomForestClassifier(n_estimators=500, n_jobs=-1),\n",
    "    MLPClassifier(alpha=1, max_iter=250),  #7\n",
    "    AdaBoostClassifier()] "
   ]
  },
  {
   "cell_type": "code",
   "execution_count": 7,
   "metadata": {
    "ExecuteTime": {
     "end_time": "2020-06-24T18:03:14.638532Z",
     "start_time": "2020-06-24T18:03:14.635033Z"
    }
   },
   "outputs": [],
   "source": []
  },
  {
   "cell_type": "code",
   "execution_count": null,
   "metadata": {
    "ExecuteTime": {
     "start_time": "2020-06-24T15:58:16.492Z"
    }
   },
   "outputs": [
    {
     "name": "stdout",
     "output_type": "stream",
     "text": [
      "Model 1 KNeighborsClassifier(algorithm='auto', l ... has accuracy: 0.6071 on 84 folds\n",
      "Model 2 KNeighborsClassifier(algorithm='auto', l ... has accuracy: 0.7024 on 84 folds\n",
      "Model 3 KNeighborsClassifier(algorithm='auto', l ... has accuracy: 0.6667 on 84 folds\n",
      "Model 4 KNeighborsClassifier(algorithm='auto', l ... has accuracy: 0.6786 on 84 folds\n",
      "Model 5 SVC(C=0.025, break_ties=False, cache_siz ... has accuracy: 0.6905 on 84 folds\n",
      "Model 6 SVC(C=0.1, break_ties=False, cache_size= ... has accuracy: 0.5357 on 84 folds\n",
      "Model 7 SVC(C=1, break_ties=False, cache_size=20 ... has accuracy: 0.6905 on 84 folds\n",
      "Model 8 SVC(C=1, break_ties=False, cache_size=20 ... has accuracy: 0.5357 on 84 folds\n",
      "Model 9 SVC(C=1, break_ties=False, cache_size=20 ... has accuracy: 0.6667 on 84 folds\n",
      "Model 10 GaussianProcessClassifier(copy_X_train=T ... has accuracy: 0.4643 on 84 folds\n",
      "Model 11 DecisionTreeClassifier(ccp_alpha=0.0, cl ... has accuracy: 0.5595 on 84 folds\n",
      "Model 12 RandomForestClassifier(bootstrap=False,  ... has accuracy: 0.6667 on 84 folds\n",
      "Model 13 RandomForestClassifier(bootstrap=True, c ... has accuracy: 0.7024 on 84 folds\n",
      "Model 14 RandomForestClassifier(bootstrap=True, c ... has accuracy: 0.7143 on 84 folds\n",
      "Model 15 RandomForestClassifier(bootstrap=True, c ... has accuracy: 0.7143 on 84 folds\n",
      "Model 16 RandomForestClassifier(bootstrap=True, c ... has accuracy: 0.6905 on 84 folds\n",
      "Model 17 MLPClassifier(activation='relu', alpha=1 ... has accuracy: 0.7500 on 84 folds\n",
      "Model 18 AdaBoostClassifier(algorithm='SAMME.R',  ... has accuracy: 0.7024 on 84 folds\n"
     ]
    }
   ],
   "source": [
    "flods = 84\n",
    "i=0\n",
    "kfold = KFold(flods, True, 1)\n",
    "for modelka in classifiers2:\n",
    "    i=i+1\n",
    "    mod = modelka\n",
    "    name=str(mod)\n",
    "    k=0\n",
    "    ac=0\n",
    "    for train, test in kfold.split(transformed):\n",
    "        k+=1\n",
    "        mod.fit(X[train], newData_y[train])\n",
    "        y_predict = mod.predict(X[test])\n",
    "        ac+= accuracy_score(newData_y[test],y_predict)\n",
    "    print('Model', i, name[0:40], '... has accuracy: {:.4f}'.format(ac/k), 'on',k,'folds')"
   ]
  },
  {
   "cell_type": "code",
   "execution_count": null,
   "metadata": {},
   "outputs": [],
   "source": []
  },
  {
   "cell_type": "code",
   "execution_count": null,
   "metadata": {},
   "outputs": [],
   "source": [
    "classifiers3 = [\n",
    "    CatBoostClassifier(random_seed=17, iterations=300, logging_level='Silent', task_type=\"GPU\", devices='0'),\n",
    "    GaussianNB(),  #10\n",
    "    QuadraticDiscriminantAnalysis(),\n",
    "    LogisticRegression()]"
   ]
  },
  {
   "cell_type": "code",
   "execution_count": null,
   "metadata": {
    "ExecuteTime": {
     "start_time": "2020-06-24T18:03:12.275Z"
    }
   },
   "outputs": [],
   "source": [
    "flods = 84\n",
    "i=0\n",
    "kfold = KFold(flods, True, 1)\n",
    "for modelka in classifiers3:\n",
    "    i=i+1\n",
    "    mod = modelka\n",
    "    name=str(mod)\n",
    "    k=0\n",
    "    ac=0\n",
    "    for train, test in kfold.split(X):\n",
    "        k+=1\n",
    "        mod.fit(X[train], newData_y[train])\n",
    "        y_predict = mod.predict(X[test])\n",
    "        ac+= accuracy_score(newData_y[test],y_predict)\n",
    "    print('Model', i, name[0:40], '... has accuracy: {:.4f}'.format(ac/k), 'on',k,'folds')"
   ]
  },
  {
   "cell_type": "code",
   "execution_count": null,
   "metadata": {},
   "outputs": [],
   "source": []
  },
  {
   "cell_type": "code",
   "execution_count": null,
   "metadata": {},
   "outputs": [],
   "source": [
    "classifiers4 = [\n",
    "    CatBoostClassifier(random_seed=17, iterations=50, logging_level='Silent', task_type=\"GPU\", devices='0'),\n",
    "    CatBoostClassifier(random_seed=17, iterations=100, logging_level='Silent', task_type=\"GPU\", devices='0'),\n",
    "    CatBoostClassifier(random_seed=17, iterations=150, logging_level='Silent', task_type=\"GPU\", devices='0'),#9\n",
    "    CatBoostClassifier(random_seed=17, iterations=200, logging_level='Silent', task_type=\"GPU\", devices='0'),\n",
    "    CatBoostClassifier(random_seed=17, iterations=300, logging_level='Silent', task_type=\"GPU\", devices='0'),\n",
    "    GaussianNB(),  #10\n",
    "    QuadraticDiscriminantAnalysis(),\n",
    "    LogisticRegression()]"
   ]
  },
  {
   "cell_type": "code",
   "execution_count": null,
   "metadata": {},
   "outputs": [],
   "source": [
    "flods = 5\n",
    "i=0\n",
    "kfold = KFold(flods, True, 1)\n",
    "for modelka in classifiers4:\n",
    "    i=i+1\n",
    "    mod = modelka\n",
    "    name=str(mod)\n",
    "    k=0\n",
    "    ac=0\n",
    "    for train, test in kfold.split(X):\n",
    "        k+=1\n",
    "        mod.fit(X[train], newData_y[train])\n",
    "        y_predict = mod.predict(X[test])\n",
    "        ac+= accuracy_score(newData_y[test],y_predict)\n",
    "    print('Model', i, name[0:40], '... has accuracy: {:.4f}'.format(ac/k), 'on',k,'folds')"
   ]
  },
  {
   "cell_type": "code",
   "execution_count": null,
   "metadata": {},
   "outputs": [],
   "source": []
  },
  {
   "cell_type": "code",
   "execution_count": null,
   "metadata": {},
   "outputs": [],
   "source": [
    "flods = 84\n",
    "i=0\n",
    "kfold = KFold(flods, True, 1)\n",
    "for modelka in classifiers3:\n",
    "    i=i+1\n",
    "    mod = modelka\n",
    "    name=str(mod)\n",
    "    k=0\n",
    "    ac=0\n",
    "    for train, test in kfold.split(transformed):\n",
    "        k+=1\n",
    "        mod.fit(X[train], newData_y[train])\n",
    "        y_predict = mod.predict(X[test])\n",
    "        ac+= accuracy_score(newData_y[test],y_predict)\n",
    "    print('Model', i, name[0:40], '... has accuracy: {:.4f}'.format(ac/k), 'on',k,'folds')"
   ]
  },
  {
   "cell_type": "code",
   "execution_count": null,
   "metadata": {
    "ExecuteTime": {
     "end_time": "2020-06-24T17:58:22.939686Z",
     "start_time": "2020-06-24T17:58:22.864669Z"
    }
   },
   "outputs": [],
   "source": []
  },
  {
   "cell_type": "code",
   "execution_count": null,
   "metadata": {},
   "outputs": [],
   "source": []
  },
  {
   "cell_type": "code",
   "execution_count": null,
   "metadata": {},
   "outputs": [],
   "source": [
    "flods = 21\n",
    "i=0\n",
    "kfold = KFold(flods, True, 1)\n",
    "for modelka in classifiers2:\n",
    "    i=i+1\n",
    "    mod = modelka\n",
    "    name=str(mod)\n",
    "    k=0\n",
    "    ac=0\n",
    "    for train, test in kfold.split(transformed):\n",
    "        k+=1\n",
    "        mod.fit(X[train], newData_y[train])\n",
    "        y_predict = mod.predict(X[test])\n",
    "        ac+= accuracy_score(newData_y[test],y_predict)\n",
    "    print('Model', i, name[0:40], '... has accuracy: {:.4f}'.format(ac/k), 'on',k,'folds')"
   ]
  },
  {
   "cell_type": "code",
   "execution_count": null,
   "metadata": {},
   "outputs": [],
   "source": []
  },
  {
   "cell_type": "code",
   "execution_count": null,
   "metadata": {},
   "outputs": [],
   "source": [
    "flods = 10\n",
    "i=0\n",
    "kfold = KFold(flods, True, 1)\n",
    "for modelka in classifiers2:\n",
    "    i=i+1\n",
    "    mod = modelka\n",
    "    name=str(mod)\n",
    "    k=0\n",
    "    ac=0\n",
    "    for train, test in kfold.split(transformed):\n",
    "        k+=1\n",
    "        mod.fit(transformed[train], newData_y[train])\n",
    "        y_predict = mod.predict(transformed[test])\n",
    "        ac+= accuracy_score(newData_y[test],y_predict)\n",
    "    print('Model', i, name[0:40], '... has accuracy: {:.4f}'.format(ac/k), 'on',k,'folds')"
   ]
  }
 ],
 "metadata": {
  "kernelspec": {
   "display_name": "Python 3",
   "language": "python",
   "name": "python3"
  },
  "language_info": {
   "codemirror_mode": {
    "name": "ipython",
    "version": 3
   },
   "file_extension": ".py",
   "mimetype": "text/x-python",
   "name": "python",
   "nbconvert_exporter": "python",
   "pygments_lexer": "ipython3",
   "version": "3.7.5"
  },
  "varInspector": {
   "cols": {
    "lenName": 16,
    "lenType": 16,
    "lenVar": 40
   },
   "kernels_config": {
    "python": {
     "delete_cmd_postfix": "",
     "delete_cmd_prefix": "del ",
     "library": "var_list.py",
     "varRefreshCmd": "print(var_dic_list())"
    },
    "r": {
     "delete_cmd_postfix": ") ",
     "delete_cmd_prefix": "rm(",
     "library": "var_list.r",
     "varRefreshCmd": "cat(var_dic_list()) "
    }
   },
   "types_to_exclude": [
    "module",
    "function",
    "builtin_function_or_method",
    "instance",
    "_Feature"
   ],
   "window_display": false
  }
 },
 "nbformat": 4,
 "nbformat_minor": 2
}
